{
 "cells": [
  {
   "cell_type": "markdown",
   "id": "ab7ed9f7",
   "metadata": {},
   "source": [
    "# Day 1"
   ]
  },
  {
   "cell_type": "markdown",
   "id": "84370b0f",
   "metadata": {},
   "source": [
    "The below statement will print Hello World"
   ]
  },
  {
   "cell_type": "code",
   "execution_count": null,
   "id": "e7d4d7ca",
   "metadata": {},
   "outputs": [],
   "source": [
    "print('hello world')"
   ]
  },
  {
   "cell_type": "markdown",
   "id": "b3b9b0e8",
   "metadata": {},
   "source": [
    "Find the sum of two numbers"
   ]
  },
  {
   "cell_type": "code",
   "execution_count": null,
   "id": "bedc65cd",
   "metadata": {},
   "outputs": [],
   "source": [
    "A = int(input(\"Enter number one \"))\n",
    "B = int(input(\"Enter number two \"))\n",
    "c = A + B\n",
    "print(\"Your sum is \" + str(c))"
   ]
  },
  {
   "cell_type": "markdown",
   "id": "d3d57983",
   "metadata": {},
   "source": [
    "Find the remainder when one number is divided by another number"
   ]
  },
  {
   "cell_type": "code",
   "execution_count": null,
   "id": "16da0994",
   "metadata": {},
   "outputs": [],
   "source": [
    "a = int(input(\"Enter dividend number \"))\n",
    "b = int(input(\"enter divisor number\"))\n",
    "c = a % b\n",
    "print(\"your remainder is \" + str(c))"
   ]
  },
  {
   "cell_type": "markdown",
   "id": "fa074731",
   "metadata": {},
   "source": [
    "Find the Simple Interest from Principal, Rate and Time."
   ]
  },
  {
   "cell_type": "code",
   "execution_count": null,
   "id": "0fbd592a",
   "metadata": {},
   "outputs": [],
   "source": [
    "p = int(input(\"Enter principal amount - \"))\n",
    "r = int(input(\"Enter the rate of interest - \"))\n",
    "t = int(input(\"Enter the time interval(in number of days) - \"))\n",
    "si = (p*r*t)/100\n",
    "print(\"your simple interest for \" + str(t) + \" days on your pricipal amount \" + str(p) + \"is \" + str(si))"
   ]
  },
  {
   "cell_type": "markdown",
   "id": "a9414b0e",
   "metadata": {},
   "source": [
    "Find the Compound Interest from Principal, Rate and Time."
   ]
  },
  {
   "cell_type": "code",
   "execution_count": null,
   "id": "08c54398",
   "metadata": {},
   "outputs": [],
   "source": [
    "p = int(input(\"Enter principal amount - \"))\n",
    "r = int(input(\"Enter the rate of interest - \"))\n",
    "t = int(input(\"Enter the time interval(in number of years) - \"))\n",
    "ci = (p*(1 + r/100)**t)-p\n",
    "print(\"your compound interest for \" + str(t) + \" years  on your principal \" + str(p) + \" is \" + str(int(ci)))\n"
   ]
  },
  {
   "cell_type": "markdown",
   "id": "25a1820c",
   "metadata": {},
   "source": [
    "Find the temperature in F , given the temperature in Celsius."
   ]
  },
  {
   "cell_type": "code",
   "execution_count": null,
   "id": "1786ade5",
   "metadata": {},
   "outputs": [],
   "source": [
    "c = float(input(\"Enter temperature (in C)- \"))\n",
    "f = (c*(9/5))+32\n",
    "print(\"The given temperature in F is \" + str(f))"
   ]
  },
  {
   "cell_type": "markdown",
   "id": "c82ebe17",
   "metadata": {},
   "source": [
    "Find the greatest number between two numbers."
   ]
  },
  {
   "cell_type": "code",
   "execution_count": null,
   "id": "247d874d",
   "metadata": {},
   "outputs": [],
   "source": [
    "a = int(input(\"Enter number one - \"))\n",
    "b = int(input(\"Enter number two - \"))\n",
    "if a>b : \n",
    "    print (a)\n",
    "else :\n",
    "    print (b)"
   ]
  },
  {
   "cell_type": "markdown",
   "id": "293bd936",
   "metadata": {},
   "source": [
    "Find whether a given number is a odd or Even."
   ]
  },
  {
   "cell_type": "code",
   "execution_count": null,
   "id": "7661cf9d",
   "metadata": {},
   "outputs": [],
   "source": [
    "a = int(input(\"Enter Number: \"))\n",
    "if (a%2) == 0 :\n",
    "    print (str(a) + \" is an even number\")\n",
    "else :\n",
    "    print (str(a) + \" is a odd number\")"
   ]
  },
  {
   "cell_type": "markdown",
   "id": "3272374e",
   "metadata": {},
   "source": [
    "Find whether a character is a vowel or not."
   ]
  },
  {
   "cell_type": "code",
   "execution_count": null,
   "id": "bba27ac6",
   "metadata": {},
   "outputs": [],
   "source": [
    "a = (input('Enter a character: '))\n",
    "if a == 'a'or a == 'e' or a== 'i' or a == 'o' or a == 'u' :\n",
    "    print (a + ' is a vowel')\n",
    "else :\n",
    "    print (a + ' is consonant')"
   ]
  },
  {
   "cell_type": "markdown",
   "id": "942e7906",
   "metadata": {},
   "source": [
    "Find whether a given number is positive or negative."
   ]
  },
  {
   "cell_type": "code",
   "execution_count": 56,
   "id": "06f96e0b",
   "metadata": {},
   "outputs": [
    {
     "name": "stdout",
     "output_type": "stream",
     "text": [
      "Enter a number: 34\n",
      "34 is a positive number\n"
     ]
    }
   ],
   "source": [
    "a = int(input('Enter a number: '))\n",
    "if a<0 :\n",
    "    print(str(a) + ' is a negative number')\n",
    "elif a>0:\n",
    "    print (str(a) + ' is a positive number' )\n",
    "else :\n",
    "    print (str(a) + ' is zero')"
   ]
  }
 ],
 "metadata": {
  "kernelspec": {
   "display_name": "Python 3",
   "language": "python",
   "name": "python3"
  },
  "language_info": {
   "codemirror_mode": {
    "name": "ipython",
    "version": 3
   },
   "file_extension": ".py",
   "mimetype": "text/x-python",
   "name": "python",
   "nbconvert_exporter": "python",
   "pygments_lexer": "ipython3",
   "version": "3.9.2"
  }
 },
 "nbformat": 4,
 "nbformat_minor": 5
}
